{
 "cells": [
  {
   "cell_type": "code",
   "execution_count": null,
   "id": "pressing-generation",
   "metadata": {},
   "outputs": [],
   "source": [
    "%matplotlib notebook"
   ]
  },
  {
   "cell_type": "code",
   "execution_count": null,
   "id": "trained-envelope",
   "metadata": {},
   "outputs": [],
   "source": [
    "from matplotlib import pyplot as plt"
   ]
  },
  {
   "cell_type": "code",
   "execution_count": null,
   "id": "organizational-reading",
   "metadata": {
    "scrolled": true
   },
   "outputs": [],
   "source": [
    "import numpy as np\n",
    "from disba import PhaseDispersion, GroupDispersion\n",
    "from disba import depthplot\n",
    "from Model import Model"
   ]
  },
  {
   "cell_type": "code",
   "execution_count": null,
   "id": "tribal-dallas",
   "metadata": {},
   "outputs": [],
   "source": [
    "periods = np.logspace(0.0, 3., 100)\n",
    "periods = periods[periods < 700]\n",
    "\n",
    "#f = np.linspace(0.04, 0.18, 30)\n",
    "#periods = 1/f[::-1]"
   ]
  },
  {
   "cell_type": "code",
   "execution_count": null,
   "id": "accredited-running",
   "metadata": {
    "scrolled": false
   },
   "outputs": [],
   "source": [
    "prem = Model(\"/usr/local/TauP-2.1.1/StdModels/prem.nd\")\n",
    "prem.insert_prem_ocean()"
   ]
  },
  {
   "cell_type": "code",
   "execution_count": null,
   "id": "mental-approach",
   "metadata": {},
   "outputs": [],
   "source": [
    "f , (ax1, ax2) = plt.subplots(1,2, figsize = (5,4))\n",
    "\n",
    "f = depthplot(*prem.thick_get('vs'),\n",
    "              plot_args = { 'label' : 'Vs', 'ls' :'-', 'color' : 'red' },\n",
    "              ax = ax1)\n",
    "\n",
    "f = depthplot(*prem.thick_get('vp'),\n",
    "              plot_args = { 'label' : 'Vp', 'ls' :'-', 'color' : 'red' },\n",
    "              ax = ax2)\n",
    "\n",
    "\n",
    "for d in np.arange(70,200,20):\n",
    "    _m = prem.mod({\n",
    "        'l' : (None, d, False),\n",
    "        'u' : (d, None, False)    \n",
    "    })\n",
    "    f = depthplot(*_m.thick_get('vs'),\n",
    "                  plot_args = { 'label' : 'Vs', 'ls':'--', 'color' : 'gray', 'linewidth' : 1},\n",
    "                  ax = ax1)\n",
    "    f = depthplot(*_m.thick_get('vp'),\n",
    "                  plot_args = { 'label' : 'Vp','ls':'--', 'color' : 'gray', 'linewidth' : 1 },\n",
    "                  ax = ax2)\n",
    "\n",
    "ax1.set_title('S-Wave')\n",
    "ax1.set_ylim([410,0])\n",
    "ax1.set_xlim([4.2,4.8])\n",
    "ax1.set_ylabel('Depth [km]')\n",
    "ax1.set_xlabel('Velocity [km/s]')\n",
    "\n",
    "ax2.set_title('P-Wave')\n",
    "ax2.set_ylim([410,0])\n",
    "ax2.set_xlim([7.5,9])\n",
    "ax2.set_ylabel('Depth [km]')\n",
    "ax2.set_xlabel('Velocity [km/s]')\n",
    "plt.tight_layout()"
   ]
  },
  {
   "cell_type": "code",
   "execution_count": null,
   "id": "irish-uzbekistan",
   "metadata": {
    "scrolled": false
   },
   "outputs": [],
   "source": [
    "_,_,f_per,_,f_C,f_U,_,_,_ = np.loadtxt(\"prem-R.asc\", skiprows = 1, unpack = True)\n",
    "_,_,fo_per,_,fo_C,fo_U,_,_,_ = np.loadtxt(\"prem-ocean-R.asc\", skiprows = 1, unpack = True)\n",
    "\n",
    "#_,_,f_per,_,f_C,f_U,_,_ = np.loadtxt(\"prem-L.asc\", skiprows = 1, unpack = True)\n",
    "#_,_,fo_per,_,fo_C,fo_U,_,_ = np.loadtxt(\"prem-ocean-L.asc\", skiprows = 1, unpack = True)"
   ]
  },
  {
   "cell_type": "code",
   "execution_count": null,
   "id": "fifty-frontier",
   "metadata": {
    "scrolled": false
   },
   "outputs": [],
   "source": [
    "# MM = 2850\n",
    "MM = None"
   ]
  },
  {
   "cell_type": "code",
   "execution_count": null,
   "id": "massive-trinity",
   "metadata": {},
   "outputs": [],
   "source": [
    "f , (ax1, ax2) = plt.subplots(1,2, figsize = (8,4))\n",
    "\n",
    "ax1.axhspan(0.0, MM if MM is not None else 6371, alpha = 0.2)\n",
    "\n",
    "depthplot(*prem.thick_get('vs'),\n",
    "              plot_args = { 'label' : 'Vs' } ,\n",
    "              ax = ax1)\n",
    "\n",
    "for dep in np.arange(30,230,30):\n",
    "    _m = prem.mod({\n",
    "        'l' : (None, dep, True),\n",
    "        'u' : (dep, None, True)\n",
    "        })\n",
    "    \n",
    "    d,vp,vs,rho = _m.thick_get(['vp', 'vs', 'rho'], max_depth = MM)\n",
    "    GpremF   = GroupDispersion(d, vp, vs, rho, model_type = 'spherical')\n",
    "    Rg_premF = GpremF(periods, 0, 'rayleigh')\n",
    "\n",
    "    ax2.plot(Rg_premF.period, Rg_premF.velocity,\n",
    "             '-', label = 'PREM @ %d' % dep)\n",
    "\n",
    "    depthplot(*_m.thick_get('vs'),\n",
    "                  plot_args = { 'label' : 'Vs', 'linestyle' : '--', 'linewidth' : 1 },\n",
    "                  ax = ax1)\n",
    "\n",
    "#ax2.plot(f_per, f_C, label = 'Herman C')\n",
    "#ax2.plot(f_per, f_U, '--', label = 'Herman U', lw = 2, color = 'k')\n",
    "\n",
    "#ax2.plot(fo_per, fo_C, label = 'Herman Ocean C')\n",
    "ax2.plot(fo_per, fo_U, '--', label = 'Herman Ocean U', lw = 2, color = 'k')\n",
    "\n",
    "ax1.set_xlabel('S-wave velocity [km/s]')\n",
    "ax1.set_ylabel('Depth [km]')\n",
    "ax1.set_ylim((410, 0 ))\n",
    "ax1.set_xlim((3, 5.1 ))\n",
    "\n",
    "ax2.set_xscale(\"log\", base=10)\n",
    "#ax2.set_yscale(\"log\", base=10)\n",
    "\n",
    "ax2.set_xlabel('Period [s]')\n",
    "#ax2.set_xlim(1,1000)\n",
    "ax2.set_ylabel('Velocity [km/s]')\n",
    "\n",
    "ax2.legend()\n",
    "\n",
    "plt.tight_layout()"
   ]
  },
  {
   "cell_type": "code",
   "execution_count": null,
   "id": "hairy-latvia",
   "metadata": {},
   "outputs": [],
   "source": [
    "f , (ax1, ax2) = plt.subplots(1,2, figsize = (8,4))\n",
    "\n",
    "ax1.axhspan(0.0, MM if MM is not None else 6371, alpha = 0.2)\n",
    "\n",
    "_m = prem.mod({\n",
    "    'l' : (None, 120, True),\n",
    "    'u' : (120, None, True)\n",
    "    })\n",
    "\n",
    "depthplot(*_m.thick_get('vs'),\n",
    "              plot_args = { 'label' : 'Vs' } ,\n",
    "              ax = ax1)\n",
    "\n",
    "d,vp,vs,rho = _m.thick_get(['vp', 'vs', 'rho'], max_depth = MM)\n",
    "GpremF   = GroupDispersion(d, vp, vs, rho, model_type = 'spherical')\n",
    "ref = GpremF(periods, 0, 'rayleigh')\n",
    "\n",
    "for dep in np.arange(30,230,30):\n",
    "    _m = prem.mod({\n",
    "        'l' : (None, dep, True),\n",
    "        'u' : (dep, None, True)\n",
    "        })\n",
    "    \n",
    "    d,vp,vs,rho = _m.thick_get(['vp', 'vs', 'rho'], max_depth = MM)\n",
    "    GpremF   = GroupDispersion(d, vp, vs, rho, model_type = 'spherical')\n",
    "    Rg_premF = GpremF(periods, 0, 'rayleigh')\n",
    "\n",
    "    ax2.plot(Rg_premF.period, 100 * (ref.velocity - Rg_premF.velocity) / ref.velocity,\n",
    "             '-', label = 'PREM @ %d' % dep)\n",
    "\n",
    "    depthplot(*_m.thick_get('vs'),\n",
    "                  plot_args = { 'label' : 'Vs', 'linestyle' : '--', 'linewidth' : 1 },\n",
    "                  ax = ax1)\n",
    "\n",
    "#ax2.plot(f_per, f_C, label = 'Herman C')\n",
    "#ax2.plot(f_per, f_U, label = 'Herman U')\n",
    "\n",
    "#ax2.plot(fo_per, fo_C, label = 'Herman Ocean C')\n",
    "#ax2.plot(fo_per, fo_U, label = 'Herman Ocean U')\n",
    "\n",
    "ax1.set_xlabel('S-wave velocity [km/s]')\n",
    "ax1.set_ylabel('Depth [km]')\n",
    "ax1.set_ylim((410, 0 ))\n",
    "ax1.set_xlim((3, 5.1 ))\n",
    "\n",
    "ax2.set_xscale(\"log\", base=10)\n",
    "#ax2.set_yscale(\"log\", base=10)\n",
    "\n",
    "ax2.set_xlabel('Period [s]')\n",
    "#ax2.set_xlim(1,1000)\n",
    "ax2.set_ylabel(r'$\\delta_{Vs}$ %')\n",
    "\n",
    "ax2.legend()\n",
    "\n",
    "plt.tight_layout()"
   ]
  },
  {
   "cell_type": "code",
   "execution_count": null,
   "id": "economic-tongue",
   "metadata": {},
   "outputs": [],
   "source": [
    " m = Model(\"simple.tvel\")\n",
    "_m = Model(\"simple2.tvel\")"
   ]
  },
  {
   "cell_type": "code",
   "execution_count": null,
   "id": "south-extent",
   "metadata": {},
   "outputs": [],
   "source": [
    "f , (ax1, ax2, ax3) = plt.subplots(1,3, figsize = (8,4))\n",
    "\n",
    "depthplot(*m.thick_get('vs'),\n",
    "              plot_args = { 'label' : 'Vs @ 120 km'} ,\n",
    "              ax = ax1)\n",
    "\n",
    "d,vp,vs,rho = m.thick_get(['vp', 'vs', 'rho'])\n",
    "GpremF    = GroupDispersion(d, vp, vs, rho, model_type = 'spherical')\n",
    "Rg_premF1 = GpremF(periods, 0, 'rayleigh')\n",
    "ax2.plot(Rg_premF1.period, Rg_premF1.velocity, '-', color = 'k')\n",
    "\n",
    "\n",
    "depthplot(*_m.thick_get('vs'),\n",
    "              plot_args = { 'label' : 'Vs @ 60 km', 'linestyle' : '--', 'linewidth' : 1 },\n",
    "              ax = ax1)\n",
    "d,vp,vs,rho = _m.thick_get(['vp', 'vs', 'rho'])\n",
    "GpremF   = GroupDispersion(d, vp, vs, rho, model_type = 'spherical')\n",
    "Rg_premF2 = GpremF(periods, 0, 'rayleigh')\n",
    "\n",
    "ax2.plot(Rg_premF2.period, Rg_premF2.velocity, '--', color = 'k', linewidth = 1 )\n",
    "ax3.plot(Rg_premF2.period, 100 * (Rg_premF2.velocity - Rg_premF1.velocity)/ Rg_premF1.velocity)\n",
    "\n",
    "ax1.set_xlabel('S-wave velocity [km/s]')\n",
    "ax1.set_ylabel('Depth [km]')\n",
    "ax1.legend()\n",
    "ax1.set_ylim((240, 0 ))\n",
    "ax1.set_xlim((3, 5.1 ))\n",
    "\n",
    "ax2.set_xscale(\"log\", base=10)\n",
    "#ax2.set_yscale(\"log\", base=10)\n",
    "\n",
    "ax2.set_xlabel('Period [s]')\n",
    "#ax2.set_xlim(1,1000)\n",
    "ax2.set_ylabel('Velocity [km/s]')\n",
    "\n",
    "ax3.set_xscale(\"log\", base=10)\n",
    "ax3.set_xlabel('Period [s]')\n",
    "ax3.set_ylabel(r'$\\delta_{Vs}$ %')\n",
    "\n",
    "plt.tight_layout()"
   ]
  },
  {
   "cell_type": "code",
   "execution_count": null,
   "id": "worth-yacht",
   "metadata": {},
   "outputs": [],
   "source": []
  }
 ],
 "metadata": {
  "kernelspec": {
   "display_name": "Python 3",
   "language": "python",
   "name": "python3"
  },
  "language_info": {
   "codemirror_mode": {
    "name": "ipython",
    "version": 3
   },
   "file_extension": ".py",
   "mimetype": "text/x-python",
   "name": "python",
   "nbconvert_exporter": "python",
   "pygments_lexer": "ipython3",
   "version": "3.9.2"
  }
 },
 "nbformat": 4,
 "nbformat_minor": 5
}
